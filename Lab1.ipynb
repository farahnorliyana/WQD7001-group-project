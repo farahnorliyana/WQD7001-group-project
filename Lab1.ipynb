{
  "nbformat": 4,
  "nbformat_minor": 0,
  "metadata": {
    "colab": {
      "name": "Lab1.ipynb",
      "provenance": [],
      "collapsed_sections": [],
      "authorship_tag": "ABX9TyPU7X0dNxuo0blK5Xn0/2np",
      "include_colab_link": true
    },
    "kernelspec": {
      "name": "python3",
      "display_name": "Python 3"
    }
  },
  "cells": [
    {
      "cell_type": "markdown",
      "metadata": {
        "id": "view-in-github",
        "colab_type": "text"
      },
      "source": [
        "<a href=\"https://colab.research.google.com/github/farahnorliyana/WQD7001-group-project/blob/master/Lab1.ipynb\" target=\"_parent\"><img src=\"https://colab.research.google.com/assets/colab-badge.svg\" alt=\"Open In Colab\"/></a>"
      ]
    },
    {
      "cell_type": "markdown",
      "metadata": {
        "id": "4HguNGDCNjKf"
      },
      "source": [
        "# Problem 1\n",
        "Given an array of ints, return True if the sequence of numbers 1, 2, 3 appears in the array somewhere.\n",
        "\n",
        "Sample input and output:\n",
        "array123([1, 1, 2, 3, 1]) → True\n",
        "array123([1, 1, 2, 4, 1]) → False\n",
        "array123([1, 1, 2, 1, 2, 3]) → True\n"
      ]
    },
    {
      "cell_type": "code",
      "metadata": {
        "id": "Ai9R9-AYM8tJ",
        "outputId": "349f8812-23b1-47bf-9992-f4b8f7e2cc11",
        "colab": {
          "base_uri": "https://localhost:8080/",
          "height": 68
        }
      },
      "source": [
        "array = {\"1\":[1,1,2,3,1],\"2\":[1,1,2,4,1],\"3\":[1,1,2,1,2,3]}\n",
        "\n",
        "def array123(array):\n",
        "    if len(array) < 3:\n",
        "        return False\n",
        "\n",
        "    for (index, item) in enumerate(array):\n",
        "        if item == 1:\n",
        "            state1 = True\n",
        "        elif (item == 2) and state1:\n",
        "            state2 = True\n",
        "        elif (item == 3) and state2:\n",
        "            return True\n",
        "        else:\n",
        "            state1 = False\n",
        "            state2 = False\n",
        "\n",
        "        if index == len(array) - 1:\n",
        "            return False\n",
        "\n",
        "for test in array:\n",
        "    print(array[test] , \"->\", array123(array[test]))\n",
        "   \n",
        "\n",
        "\n"
      ],
      "execution_count": 22,
      "outputs": [
        {
          "output_type": "stream",
          "text": [
            "[1, 1, 2, 3, 1] -> True\n",
            "[1, 1, 2, 4, 1] -> False\n",
            "[1, 1, 2, 1, 2, 3] -> True\n"
          ],
          "name": "stdout"
        }
      ]
    },
    {
      "cell_type": "markdown",
      "metadata": {
        "id": "Ro3MHk9WYWL3"
      },
      "source": [
        "#Problem 2\n",
        "\n",
        "Given 2 int values, return True if one is negative and one is positive. Except if the parameter \"negative\" is True, then return True only if both are negative."
      ]
    },
    {
      "cell_type": "code",
      "metadata": {
        "id": "hCWKVgXoYiyV",
        "outputId": "d82b7971-9705-42a7-e8d1-c58c5c65cff3",
        "colab": {
          "base_uri": "https://localhost:8080/",
          "height": 68
        }
      },
      "source": [
        "def pos_neg(a, b, negative):\n",
        "  if negative:\n",
        "    return (a < 0 and b < 0)\n",
        "  else:\n",
        "    return ((a < 0 and b > 0) or (a > 0 and b < 0))\n",
        "\n",
        "print (\"pos_neg(1, -1, False) -> \", pos_neg(1, -1, False))\n",
        "print (\"pos_neg(-1, 1, False) -> \", pos_neg(-1, 1, False))\n",
        "print (\"pos_neg(-4, -5, True) -> \" ,pos_neg(-4, -5, True))"
      ],
      "execution_count": 40,
      "outputs": [
        {
          "output_type": "stream",
          "text": [
            "pos_neg(1, -1, False) ->  True\n",
            "pos_neg(-1, 1, False) ->  True\n",
            "pos_neg(-4, -5, True) ->  True\n"
          ],
          "name": "stdout"
        }
      ]
    }
  ]
}